{
 "cells": [
  {
   "cell_type": "markdown",
   "metadata": {},
   "source": [
    "**Note：本代码需要运行于BigQuant平台，无法在Jupyter Notebook中直接运行**\n",
    "\n",
    "**功能：用于获取指定时间区间内的所有股票代码**"
   ]
  },
  {
   "cell_type": "code",
   "execution_count": 37,
   "metadata": {},
   "outputs": [
    {
     "name": "stdout",
     "output_type": "stream",
     "text": [
      "共计3547支股票\n"
     ]
    }
   ],
   "source": [
    "ins=D.instruments(start_date='2015-01-01', end_date='2018-06-24', market='CN_STOCK_A')\n",
    "print('共计'+str(len(ins))+'支股票')\n",
    "stockIndices={\"StockIndex\" : ins}#先将ins转换为字典，方便存储\n",
    "stockIndices=pd.DataFrame(stockIndices)#将字典转换成为数据框\n",
    "stockIndices.to_csv('stockIndices.csv')\n"
   ]
  },
  {
   "cell_type": "markdown",
   "metadata": {},
   "source": [
    "**输出：共计3547支股票**"
   ]
  },
  {
   "cell_type": "code",
   "execution_count": null,
   "metadata": {},
   "outputs": [],
   "source": []
  }
 ],
 "metadata": {
  "kernelspec": {
   "display_name": "Python 3",
   "language": "python",
   "name": "python3"
  },
  "language_info": {
   "codemirror_mode": {
    "name": "ipython",
    "version": 3
   },
   "file_extension": ".py",
   "mimetype": "text/x-python",
   "name": "python",
   "nbconvert_exporter": "python",
   "pygments_lexer": "ipython3",
   "version": "3.6.5"
  }
 },
 "nbformat": 4,
 "nbformat_minor": 2
}
